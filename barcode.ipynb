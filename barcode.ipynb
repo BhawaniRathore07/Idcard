{
 "cells": [
  {
   "cell_type": "code",
   "execution_count": 30,
   "id": "c2be5446",
   "metadata": {},
   "outputs": [
    {
     "data": {
      "text/plain": [
       "'barcode.png'"
      ]
     },
     "execution_count": 30,
     "metadata": {},
     "output_type": "execute_result"
    }
   ],
   "source": [
    "import barcode\n",
    "from PIL import Image\n",
    "from barcode.writer import ImageWriter\n",
    "barcode_format=barcode.get_barcode_class('code128')\n",
    "barCode='V000445'\n",
    "writer=ImageWriter()\n",
    "\n",
    "generated=barcode_format(barCode,writer)\n",
    "generated.save(\"barcode\",{\"module_width\":0.35, \"module_height\":10, \"quiet_zone\": 3})\n"
   ]
  },
  {
   "cell_type": "code",
   "execution_count": 38,
   "id": "d59d5f21",
   "metadata": {},
   "outputs": [
    {
     "data": {
      "text/plain": [
       "(442, 221)"
      ]
     },
     "execution_count": 38,
     "metadata": {},
     "output_type": "execute_result"
    }
   ],
   "source": [
    "pil_image=Image.open(\"barcode.png\")\n"
   ]
  },
  {
   "cell_type": "code",
   "execution_count": 39,
   "id": "48dc5b70",
   "metadata": {},
   "outputs": [
    {
     "data": {
      "image/png": "[encoded data removed]",
      "text/plain": [
       "<PIL.Image.Image image mode=RGB size=375x170>"
      ]
     },
     "execution_count": 39,
     "metadata": {},
     "output_type": "execute_result"
    }
   ],
   "source": [
    "crop_image=pil_image.crop((33,10,408,180))\n",
    "\n",
    "crop_image.save(\"cropBarcode.png\")\n",
    "crop_image"
   ]
  },
  {
   "cell_type": "code",
   "execution_count": 37,
   "id": "a4ce98ac",
   "metadata": {},
   "outputs": [
    {
     "ename": "ModuleNotFoundError",
     "evalue": "No module named 'scipy'",
     "output_type": "error",
     "traceback": [
      "\u001b[1;31m---------------------------------------------------------------------------\u001b[0m",
      "\u001b[1;31mModuleNotFoundError\u001b[0m                       Traceback (most recent call last)",
      "Cell \u001b[1;32mIn[37], line 5\u001b[0m\n\u001b[0;32m      3\u001b[0m \u001b[38;5;28;01mfrom\u001b[39;00m \u001b[38;5;21;01mPIL\u001b[39;00m \u001b[38;5;28;01mimport\u001b[39;00m Image\n\u001b[0;32m      4\u001b[0m \u001b[38;5;28;01mimport\u001b[39;00m \u001b[38;5;21;01mnumpy\u001b[39;00m \u001b[38;5;28;01mas\u001b[39;00m \u001b[38;5;21;01mnp\u001b[39;00m\n\u001b[1;32m----> 5\u001b[0m \u001b[38;5;28;01mfrom\u001b[39;00m \u001b[38;5;21;01mscipy\u001b[39;00m\u001b[38;5;21;01m.\u001b[39;00m\u001b[38;5;21;01mndimage\u001b[39;00m \u001b[38;5;28;01mimport\u001b[39;00m zoom\n\u001b[0;32m      7\u001b[0m \u001b[38;5;66;03m# Generate the barcode image with default settings\u001b[39;00m\n\u001b[0;32m      8\u001b[0m barcode_format \u001b[38;5;241m=\u001b[39m barcode\u001b[38;5;241m.\u001b[39mget_barcode_class(\u001b[38;5;124m'\u001b[39m\u001b[38;5;124mcode128\u001b[39m\u001b[38;5;124m'\u001b[39m)\n",
      "\u001b[1;31mModuleNotFoundError\u001b[0m: No module named 'scipy'"
     ]
    }
   ],
   "source": [
    "import barcode\n",
    "from barcode.writer import ImageWriter\n",
    "from PIL import Image\n",
    "import numpy as np\n",
    "from scipy.ndimage import zoom\n",
    "\n",
    "# Generate the barcode image with default settings\n",
    "barcode_format = barcode.get_barcode_class('code128')\n",
    "barCode = 'V000444'\n",
    "generated = barcode_format(barCode, writer=ImageWriter())\n",
    "\n",
    "# Save the generated barcode image\n",
    "generated_image_path = \"generated_barcode.png\"\n",
    "generated.save(generated_image_path)\n",
    "\n",
    "# Open the generated barcode image using PIL\n",
    "pil_image = Image.open(generated_image_path)\n",
    "\n",
    "# Convert PIL Image to numpy array\n",
    "image_array = np.array(pil_image)\n",
    "\n",
    "# Define the desired dimensions for the resized image\n",
    "desired_width = 206\n",
    "desired_height = 61\n",
    "\n",
    "# Use scipy.ndimage.zoom for high-quality resizing\n",
    "resized_array = zoom(image_array, (desired_height / pil_image.height, desired_width / pil_image.width, 1), order=3)\n",
    "\n",
    "# Convert the resized array back to PIL Image\n",
    "resized_image = Image.fromarray(np.uint8(resized_array))\n",
    "\n",
    "# Save the resized image\n",
    "resized_image_path = \"resized_barcode.png\"\n",
    "resized_image.save(resized_image_path)\n"
   ]
  },
  {
   "cell_type": "code",
   "execution_count": null,
   "id": "a35212d7",
   "metadata": {},
   "outputs": [],
   "source": [
    "pip install scipy\n"
   ]
  },
  {
   "cell_type": "code",
   "execution_count": null,
   "id": "52e9ccb6",
   "metadata": {},
   "outputs": [],
   "source": [
    "print(\"hello world\")"
   ]
  },
  {
   "cell_type": "code",
   "execution_count": null,
   "id": "52de6dda",
   "metadata": {},
   "outputs": [],
   "source": []
  }
 ],
 "metadata": {
  "kernelspec": {
   "display_name": "Python 3 (ipykernel)",
   "language": "python",
   "name": "python3"
  },
  "language_info": {
   "codemirror_mode": {
    "name": "ipython",
    "version": 3
   },
   "file_extension": ".py",
   "mimetype": "text/x-python",
   "name": "python",
   "nbconvert_exporter": "python",
   "pygments_lexer": "ipython3",
   "version": "3.11.4"
  }
 },
 "nbformat": 4,
 "nbformat_minor": 5
}
